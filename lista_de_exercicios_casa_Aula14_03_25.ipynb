{
  "nbformat": 4,
  "nbformat_minor": 0,
  "metadata": {
    "colab": {
      "provenance": [],
      "authorship_tag": "ABX9TyOE7gxjaw26BbPnrUGnU4fD",
      "include_colab_link": true
    },
    "kernelspec": {
      "name": "python3",
      "display_name": "Python 3"
    },
    "language_info": {
      "name": "python"
    }
  },
  "cells": [
    {
      "cell_type": "markdown",
      "metadata": {
        "id": "view-in-github",
        "colab_type": "text"
      },
      "source": [
        "<a href=\"https://colab.research.google.com/github/cesarbovo/FATEC/blob/main/lista_de_exercicios_casa_Aula14_03_25.ipynb\" target=\"_parent\"><img src=\"https://colab.research.google.com/assets/colab-badge.svg\" alt=\"Open In Colab\"/></a>"
      ]
    },
    {
      "cell_type": "code",
      "source": [
        "'''\n",
        "Lista de Exercícios 03\n",
        "Exercício 1: Verificação de número positivo ou negativo\n",
        "• Peça ao usuário um número.\n",
        "• Informe se ele é positivo, negativo ou zero.\n",
        "'''\n",
        "\n",
        "numero = float(input(' Digite um número ').replace(',','.'))\n",
        "if numero > 0:\n",
        "  print(' O número é positivo ')\n",
        "elif numero < 0:\n",
        "  print(' O número é negativo')\n",
        "else:\n",
        "  print(' O número é neutro')\n"
      ],
      "metadata": {
        "colab": {
          "base_uri": "https://localhost:8080/"
        },
        "id": "5TyAG4tYHr4m",
        "outputId": "af8122b9-887c-4a2e-e7d4-0797f859428b"
      },
      "execution_count": null,
      "outputs": [
        {
          "output_type": "stream",
          "name": "stdout",
          "text": [
            " Digite um número 0\n",
            " O número é neutro\n"
          ]
        }
      ]
    },
    {
      "cell_type": "code",
      "source": [
        "'''\n",
        "Exercício 2: Par ou Ímpar\n",
        "• Solicite um número inteiro ao usuário.\n",
        "• Informe se o número é par ou ímpar.\n",
        "'''\n",
        "\n",
        "numero = int(input(' Digite um número inteiro '))\n",
        "if numero % 2 == 0:\n",
        "  print( ' O Número é par ')\n",
        "else:\n",
        "  print (' O número é impar ')"
      ],
      "metadata": {
        "id": "JfJl9y-NI31p",
        "colab": {
          "base_uri": "https://localhost:8080/"
        },
        "outputId": "1b85add2-9498-44dd-c79e-a1876480ae95"
      },
      "execution_count": null,
      "outputs": [
        {
          "output_type": "stream",
          "name": "stdout",
          "text": [
            " Digite um número inteiro 7\n",
            " O número é impar \n"
          ]
        }
      ]
    },
    {
      "cell_type": "code",
      "source": [
        "'''\n",
        "Exercício 3: Maior de idade\n",
        "• Pergunte a idade do usuário.\n",
        "• Informe se ele é maior ou menor de idade.\n",
        "'''\n",
        "\n",
        "idade = int(input(' Qual a sua idade '))\n",
        "if idade >= 18:\n",
        "  print(' Você é maior de idade ')\n",
        "else:\n",
        "  print(' Você é menor de idade ')"
      ],
      "metadata": {
        "colab": {
          "base_uri": "https://localhost:8080/"
        },
        "id": "IncEwEgLONjq",
        "outputId": "2fa58ffb-6e34-436f-fdae-0f86df225095"
      },
      "execution_count": null,
      "outputs": [
        {
          "output_type": "stream",
          "name": "stdout",
          "text": [
            " Qual a sua idade 17\n",
            " Você é menor de idade \n"
          ]
        }
      ]
    },
    {
      "cell_type": "code",
      "source": [
        "'''\n",
        "Exercício 4: Desconto no ingresso\n",
        "• Se a idade for menor que 12 ou maior que 60, o ingresso custa R$ 15,00.\n",
        "• Caso contrário, o ingresso custa R$ 30,00.\n",
        "'''\n",
        "\n",
        "idade = int(input(' Digite a sua idade '))\n",
        "if idade >= 12 and idade <= 60:\n",
        "  print (' O ingresso custa R$ 30,00 ')\n",
        "else:\n",
        "  print (' O ingresso custa R$ 15,00 ')\n"
      ],
      "metadata": {
        "colab": {
          "base_uri": "https://localhost:8080/"
        },
        "id": "8UEO0OMUPWze",
        "outputId": "b0289427-d1b1-4e5d-c3f5-fae572ea4a9d"
      },
      "execution_count": null,
      "outputs": [
        {
          "output_type": "stream",
          "name": "stdout",
          "text": [
            " Digite a sua idade 61\n",
            " O ingresso custa R$ 15,00 \n"
          ]
        }
      ]
    },
    {
      "cell_type": "code",
      "source": [
        "'''\n",
        "Exercício 5: Comparação de dois números\n",
        "• Peça dois números ao usuário.\n",
        "• Informe qual é o maior ou se são iguais.\n",
        "'''\n",
        "numero1 = float(input(' Digite o primeiro número '))\n",
        "numero2 = float(input(' Digite o segundo número '))\n",
        "if numero1 > numero2:\n",
        "  print(f' o numero {numero1}  é maior que o número {numero2} ')\n",
        "if numero1 < numero2:\n",
        "  print (f' O número {numero1} é menor que o número {numero2}')\n",
        "if numero1 == numero2:\n",
        "  print (f' o número {numero1} é igual ao numero {numero2} ')"
      ],
      "metadata": {
        "colab": {
          "base_uri": "https://localhost:8080/"
        },
        "id": "swjk5MCAQS3P",
        "outputId": "ff3d4ee6-32be-4af1-964d-08202daf9a72"
      },
      "execution_count": null,
      "outputs": [
        {
          "output_type": "stream",
          "name": "stdout",
          "text": [
            " Digite o primeiro número 123\n",
            " Digite o segundo número 123\n",
            " o número 123.0 é igual ao numero 123.0 \n"
          ]
        }
      ]
    },
    {
      "cell_type": "code",
      "source": [
        "'''\n",
        "Exercício 5: Comparação de dois números\n",
        "• Peça dois números ao usuário.\n",
        "• Informe qual é o maior ou se são iguais.\n",
        "'''\n",
        "numero3 = float(input(' Digite o primeiro número ').replace(',','.'))\n",
        "numero4 = float(input (' Digite o segunto número ').replace(',','.'))\n",
        "if numero3 > numero4:\n",
        "  print(f' O maior numero é {numero3}')\n",
        "elif numero3 == numero4:\n",
        "  print(' Os números são iguais ')\n",
        "else:\n",
        "  print(f' O maior número é {numero4}')"
      ],
      "metadata": {
        "id": "cvGlIreMTDrC",
        "colab": {
          "base_uri": "https://localhost:8080/"
        },
        "outputId": "76cac97b-f3eb-443e-907b-d8d292fc036d"
      },
      "execution_count": null,
      "outputs": [
        {
          "output_type": "stream",
          "name": "stdout",
          "text": [
            " Digite o primeiro número 3,6\n",
            " Digite o segunto número 3.6\n",
            " Os números são iguais \n"
          ]
        }
      ]
    },
    {
      "cell_type": "code",
      "source": [
        "'''\n",
        "Exercício 6: O usuário digita a nota de um aluno.\n",
        "• Se for maior ou igual a 7, exiba \"Aprovado\".\n",
        "• Se for entre 5 e 6.9, exiba \"Recuperação\".\n",
        "• Caso contrário, \"Reprovado\".\n",
        "'''\n",
        "\n",
        "nota = float(input('Digite a nota do aluno ').replace(',','.'))\n",
        "if nota >= 7:\n",
        "  print( ' Aprovado ')\n",
        "elif nota >= 5:\n",
        "  print ( ' Recuperação ')\n",
        "else:\n",
        "  print(' Reprovado')"
      ],
      "metadata": {
        "colab": {
          "base_uri": "https://localhost:8080/"
        },
        "id": "T2V9ruo9YEPG",
        "outputId": "60cfe762-75c6-4fdc-83f7-9bac010261b6"
      },
      "execution_count": null,
      "outputs": [
        {
          "output_type": "stream",
          "name": "stdout",
          "text": [
            "Digite a nota do aluno 5.1\n",
            " Recuperação \n"
          ]
        }
      ]
    },
    {
      "cell_type": "code",
      "source": [
        "'''\n",
        "Exercício 7: Calculadora de IMC\n",
        "• Peça o peso e a altura do usuário.\n",
        "• Calcule o IMC e classifique como \"Abaixo do peso\", \"Peso normal\", \"Sobrepeso\" ou\n",
        "\"Obesidade\" usando elif.\n",
        "Abaixo de 18.5 → Abaixo do peso • Entre 18.5 e 24.9 → Peso normal • Entre 25 e 29.9 → Sobrepeso • acima de 30 obesidade\n",
        "\n",
        "'''\n",
        "peso = float(input(' Digite o seu peso em quilogramas ').replace(',','.'))\n",
        "altura = float(input( ' Digite a sua altura em metros ').replace(',','.'))\n",
        "IMC = round(peso/pow(altura, 2), 2)\n",
        "if IMC < 18.5:\n",
        "  print(' Você está abaixo do peso ')\n",
        "elif IMC < 25:\n",
        "  print (' Você está com o peso normal ')\n",
        "elif IMC < 30:\n",
        "  print( ' Você está com sobrepeso ')\n",
        "else:\n",
        "  print ( ' Você está com obesidade ')\n"
      ],
      "metadata": {
        "colab": {
          "base_uri": "https://localhost:8080/"
        },
        "id": "UJh5ig-aaAhK",
        "outputId": "9fd7451f-63be-4475-afea-43dbec507d5f"
      },
      "execution_count": null,
      "outputs": [
        {
          "output_type": "stream",
          "name": "stdout",
          "text": [
            " Digite o seu peso em quilogramas 90,7\n",
            " Digite a sua altura em metros 1,87\n",
            " Você está com sobrepeso \n"
          ]
        }
      ]
    },
    {
      "cell_type": "code",
      "source": [
        "'''\n",
        "Exercício 8: Classificação de triângulos\n",
        "• Peça ao usuário três números representando os lados de um triângulo.\n",
        "• Verifique se formam um triângulo.\n",
        "• Classifique como \"Equilátero\", \"Isósceles\" ou \"Escaleno\".\n",
        "'''\n",
        "print ('Vamos verificar o tipo do triangulo quanto aos lados? ')\n",
        "lado1 = float(input('Digite a medida do primeiro lado ').replace(',','.'))\n",
        "lado2 = float (input(' Digite a medida do segundo lado ').replace(',','.'))\n",
        "lado3 = float(input(' Digite a medida do terceiro lado ').replace(',','.'))\n",
        "if lado1 == 0 or lado2 ==0 or lado3 == 0:\n",
        "  print ( 'Não é um triangulo ')\n",
        "elif lado1 == lado2 and lado1 != lado3:\n",
        "  print(' É um triangulo Isósceles ')\n",
        "elif lado2 == lado3 and lado2 != lado1:\n",
        "  print (' É um triangulo Isósceles ')\n",
        "elif lado1 == lado3 and lado1 != lado2:\n",
        "  print(' É um triangulo Isósceles ')\n",
        "elif lado1 == lado2 and lado1 == lado3:\n",
        "  print(' É um triangulo equilátero')\n",
        "else:\n",
        "  print(' É um triangulo Escaleno ')\n",
        "\n",
        "\n"
      ],
      "metadata": {
        "colab": {
          "base_uri": "https://localhost:8080/"
        },
        "id": "O7qFVeeNdBO2",
        "outputId": "e5b74871-2ff0-4317-a1ff-ebc7b806db51"
      },
      "execution_count": null,
      "outputs": [
        {
          "output_type": "stream",
          "name": "stdout",
          "text": [
            "Vamos verificar o tipo do triangulo quanto aos lados? \n",
            "Digite a medida do primeiro lado 12\n",
            " Digite a medida do segundo lado 00\n",
            " Digite a medida do terceiro lado 0\n",
            "Não é um triangulo \n"
          ]
        }
      ]
    },
    {
      "cell_type": "code",
      "source": [
        "'''\n",
        "Exercício 9: Cálculo de bônus salarial\n",
        "• O usuário informa o salário atual.\n",
        "• Se for menor que R$ 2000, recebe um bônus de 20%.\n",
        "• Se for entre R$ 2000 e R$ 5000, recebe 10%.\n",
        "• Se for acima de R$ 5000, recebe 5%.\n",
        "'''\n",
        "\n",
        "salario = float(input(' Digite o seu salário atual ').replace(',','.'))\n",
        "if salario < 2000:\n",
        "  print(f' Você receberá um bônus de R$ {salario*0.2} ')\n",
        "elif salario <= 5000:\n",
        "  print(f' Você receberá um bônus de R$ {salario*0.1} ')\n",
        "else:\n",
        "  print(f' Você receberá um bônus de R$ {salario*0.05}')"
      ],
      "metadata": {
        "id": "JU-p5pbmkvat",
        "colab": {
          "base_uri": "https://localhost:8080/"
        },
        "outputId": "3e5bbee2-aa77-4bac-86f7-003c31b9e43b"
      },
      "execution_count": null,
      "outputs": [
        {
          "output_type": "stream",
          "name": "stdout",
          "text": [
            " Digite o seu salário atual 10000\n",
            " Você receberá um bônus de R$ 500.0\n"
          ]
        }
      ]
    },
    {
      "cell_type": "code",
      "source": [
        "'''\n",
        "Exercício 10: Ano bissexto\n",
        "• O usuário digita um ano.\n",
        "• Se for divisível por 4 e não por 100, ou divisível por 400, exiba \"Ano bissexto\".\n",
        "• Caso contrário, \"Não é bissexto\".\n",
        "'''\n",
        "ano = int(input(' Digite um ano '))\n",
        "if ano % 400 == 0:\n",
        "  print (' Ano Bissexto ')\n",
        "elif ano % 4 == 0 and ano % 100 != 0:\n",
        "  print (' Ano Bissexto ')\n",
        "else:\n",
        "  print( ' O ano não é Bissexto ' )"
      ],
      "metadata": {
        "id": "MTq9Jxadqm3U",
        "colab": {
          "base_uri": "https://localhost:8080/"
        },
        "outputId": "aaf68ca8-6a9b-4b79-cf26-74089e35c06f"
      },
      "execution_count": null,
      "outputs": [
        {
          "output_type": "stream",
          "name": "stdout",
          "text": [
            " Digite um ano 1800\n",
            " O ano não é Bissexto \n"
          ]
        }
      ]
    },
    {
      "cell_type": "code",
      "source": [],
      "metadata": {
        "id": "WsUGdoIQ2CA0"
      },
      "execution_count": null,
      "outputs": []
    },
    {
      "cell_type": "code",
      "source": [
        "import random\n",
        "\n",
        "def jogo_adivinhacao():\n",
        "    numero_secreto = random.randint(1, 100)  # Define um número secreto entre 1 e 100\n",
        "    tentativas = 0\n",
        "\n",
        "    print(\"Bem-vindo ao Jogo de Adivinhação!\")\n",
        "    print(\"Tente adivinhar o número secreto entre 1 e 100.\")\n",
        "\n",
        "    while True:\n",
        "        palpite = int(input(\"Digite seu palpite: \"))\n",
        "        tentativas += 1\n",
        "\n",
        "        if palpite > numero_secreto:\n",
        "            print(\"Muito alto!\")\n",
        "        elif palpite < numero_secreto:\n",
        "            print(\"Muito baixo!\")\n",
        "        else:\n",
        "            print(f\"Parabéns! Você acertou o número {numero_secreto} em {tentativas} tentativas.\")\n",
        "            break\n",
        "\n",
        "# Inicia o jogo\n",
        "jogo_adivinhacao()"
      ],
      "metadata": {
        "colab": {
          "base_uri": "https://localhost:8080/"
        },
        "id": "ayc-uexewdgy",
        "outputId": "33753101-7347-4de7-a2e6-e2b32f0fd1bf"
      },
      "execution_count": null,
      "outputs": [
        {
          "output_type": "stream",
          "name": "stdout",
          "text": [
            "Bem-vindo ao Jogo de Adivinhação!\n",
            "Tente adivinhar o número secreto entre 1 e 100.\n",
            "Digite seu palpite: 50\n",
            "Muito alto!\n",
            "Digite seu palpite: 25\n",
            "Muito alto!\n",
            "Digite seu palpite: 12\n",
            "Muito baixo!\n",
            "Digite seu palpite: 17\n",
            "Muito alto!\n",
            "Digite seu palpite: 16\n",
            "Muito alto!\n",
            "Digite seu palpite: 15\n",
            "Parabéns! Você acertou o número 15 em 6 tentativas.\n"
          ]
        }
      ]
    },
    {
      "cell_type": "code",
      "source": [
        "'''\n",
        "Exercício 12: Classificação de temperaturas\n",
        "•\tPeça uma temperatura em Celsius.\n",
        "•\tClassifique como \"Frio\" (≤ 15°C), \"Agradável\" (16°C - 25°C) ou \"Quente\" (> 25°C).\n",
        "'''\n",
        "\n",
        "temperatura = int(input(' Digite uma temperatura em Celcius:  '))\n",
        "if temperatura > 25:\n",
        "  print (f' {temperatura}ºC é quente! ')\n",
        "elif temperatura >= 16:\n",
        "  print (f' {temperatura}ºC é agradável!')\n",
        "else:\n",
        "  print (f' {temperatura}ºC é frio')\n",
        "\n",
        "\n"
      ],
      "metadata": {
        "colab": {
          "base_uri": "https://localhost:8080/"
        },
        "id": "Tj1o6lJS4BBR",
        "outputId": "26272d42-f1e4-4e8f-fbdf-2936dcf5d357"
      },
      "execution_count": null,
      "outputs": [
        {
          "output_type": "stream",
          "name": "stdout",
          "text": [
            " Digite uma temperatura em Celcius:  25\n",
            " 25ºC é agradável!\n"
          ]
        }
      ]
    },
    {
      "cell_type": "code",
      "source": [
        "'''\n",
        "Exercício 13:  Calculadora de frete\n",
        "•\tPeça o valor da compra.\n",
        "•\tSe for acima de R$ 100, o frete é grátis.\n",
        "•\tCaso contrário, cobre R$ 15 de frete.\n",
        "'''\n",
        "\n",
        "compra = round(float(input(' Digite o valor da compra: ').replace(',','.')),2)\n",
        "if compra > 100:\n",
        "  print (f' O valor da sua compra foi R$ {compra}. O seu frete é grátis!')\n",
        "else:\n",
        "  print (f' O valor da sua compra foi R$ {compra}. O seu frete é R$ 15,00.' )"
      ],
      "metadata": {
        "id": "eIwmB3zpzRwA",
        "colab": {
          "base_uri": "https://localhost:8080/"
        },
        "outputId": "d8232bbe-1d20-4687-b447-1fbafc7c3ccc"
      },
      "execution_count": null,
      "outputs": [
        {
          "output_type": "stream",
          "name": "stdout",
          "text": [
            " Digite o valor da compra: 99.999\n",
            " O valor da sua compra foi R$ 100.0. O seu frete é R$ 15,00.\n"
          ]
        }
      ]
    },
    {
      "cell_type": "code",
      "source": [
        "'''\n",
        "Exercício 14: Conversor de notas para conceito\n",
        "•\tO usuário informa uma nota de 0 a 10.\n",
        "•\tConverta para conceitos:\n",
        "•\tA (9-10), B (7-8.9), C (5-6.9), D (3-4.9), E (0-2.9).\n",
        "'''\n",
        "\n",
        "nota = round(float(input( ' Digite uma nota de 0 a 10 ').replace(',','.')),1)\n",
        "if nota >= 9 and nota <= 10:\n",
        "  print(f' A sua nota {nota} equivale ao conceito A ')\n",
        "elif nota >= 7:\n",
        "  print (f' A sua nota {nota} equivale ao conceito B ')\n",
        "elif nota >=5:\n",
        "  print (f' A sua nota {nota} equivale ao conceito C ')\n",
        "elif nota >=3:\n",
        "  print (f' A sua nota {nota} equivale ao conceito D ')\n",
        "elif nota >=0:\n",
        "  print (f' A sua nota {nota} equivale ao conceito E ')\n",
        "else:\n",
        "  print (f' A nota {nota} não é válida! Digite uma nota de 0 a 10 ')\n",
        "\n",
        "  ## Como evitar notas acima de 10 na digitação????\n"
      ],
      "metadata": {
        "colab": {
          "base_uri": "https://localhost:8080/"
        },
        "id": "GfIDodCw9HQn",
        "outputId": "248735f4-4c75-4219-80cd-6cc6bde4ae51"
      },
      "execution_count": null,
      "outputs": [
        {
          "output_type": "stream",
          "name": "stdout",
          "text": [
            " Digite uma nota de 0 a 10 102\n",
            " A sua nota 102.0 equivale ao conceito B \n"
          ]
        }
      ]
    },
    {
      "cell_type": "code",
      "source": [
        "'''\n",
        "Exercício 15: Calculadora de tarifas de ônibus\n",
        "•\tPeça a idade e se a pessoa tem cartão estudante (S/N).\n",
        "•\tRegras:\n",
        "•\tMenor de 6 anos ou maior de 65 → Grátis\n",
        "•\tEstudante → 50% de desconto\n",
        "• Público geral → Tarifa normal Exercício\n",
        "'''\n",
        "\n",
        "idade = int(input(' Digite a sua idade '))\n",
        "aluno = input (' você tem a carteira de estudante. Digite S/N ').strip().upper()\n",
        "if idade < 6 or idade > 65:\n",
        "  print ('Você tem tarifa gratuita!')\n",
        "elif aluno == \"S\":\n",
        "  print(' Você tem desconto de 50%. ')\n",
        "else:\n",
        "  print (' Pague a tarifa integral ')"
      ],
      "metadata": {
        "colab": {
          "base_uri": "https://localhost:8080/"
        },
        "id": "bMI1LcluE7rm",
        "outputId": "ec25d97b-2d6a-4bcb-9f13-73c216bf569d"
      },
      "execution_count": null,
      "outputs": [
        {
          "output_type": "stream",
          "name": "stdout",
          "text": [
            " Digite a sua idade 45\n",
            " você tem a carteira de estudante. Digite S/NS\n",
            " Você tem desconto de 50%. \n"
          ]
        }
      ]
    },
    {
      "cell_type": "code",
      "source": [
        " def calcular_tarifa():\n",
        "    # Definindo a tarifa normal\n",
        "    tarifa_normal = 4.50  # Exemplo de tarifa normal\n",
        "    idade = int(input(\"Digite sua idade: \"))\n",
        "    tem_cartao_estudante = input(\"Você tem cartão estudante? (S/N): \").strip().upper()\n",
        "\n",
        "    # Verificando as condições\n",
        "    if idade < 6 or idade > 65:\n",
        "        tarifa = 0.0  # Grátis\n",
        "        print(\"Você tem direito à tarifa grátis.\")\n",
        "    elif tem_cartao_estudante == 'S':\n",
        "        tarifa = tarifa_normal * 0.5  # 50% de desconto\n",
        "        print(\"Você tem direito a 50% de desconto.\")\n",
        "    else:\n",
        "        tarifa = tarifa_normal  # Tarifa normal\n",
        "        print(\"Você deve pagar a tarifa normal.\")\n",
        "\n",
        "    print(f\"A tarifa a ser paga é: R$ {tarifa:.2f}\")\n",
        "\n",
        "# Chama a função para executar a calculadora\n",
        "calcular_tarifa()"
      ],
      "metadata": {
        "colab": {
          "base_uri": "https://localhost:8080/"
        },
        "id": "rtZSWWB9ILhB",
        "outputId": "500200aa-0281-4640-d5b3-70fcd8430551"
      },
      "execution_count": null,
      "outputs": [
        {
          "output_type": "stream",
          "name": "stdout",
          "text": [
            "Digite sua idade: 16\n",
            "Você tem cartão estudante? (S/N): N\n",
            "Você deve pagar a tarifa normal.\n",
            "A tarifa a ser paga é: R$ 4.50\n"
          ]
        }
      ]
    },
    {
      "cell_type": "code",
      "source": [
        "def passagem():\n",
        "  preco_normal = 10\n",
        "  idade = int(input(' Digite a sua idade '))\n",
        "  carteirinha = input ('Você tem carteira de estudante ? Digite S/N: ').strip().upper()\n",
        "\n",
        "  if idade < 6 or idade > 65:\n",
        "    preco = 0\n",
        "    print (' Você tem passagem gratuita!')\n",
        "  elif carteirinha == 'S':\n",
        "    preco = preco_normal * 0.5\n",
        "    print (' Você tem 50% de desconto! ')\n",
        "  else:\n",
        "    preco = preco_normal\n",
        "    print ('Você não tem desconto ')\n",
        "\n"
      ],
      "metadata": {
        "id": "urFqOzciJ9YH"
      },
      "execution_count": null,
      "outputs": []
    },
    {
      "cell_type": "code",
      "source": [
        "passagem()"
      ],
      "metadata": {
        "colab": {
          "base_uri": "https://localhost:8080/"
        },
        "id": "UNP8Ihv98TWa",
        "outputId": "9346f3ca-9156-46a5-a966-8093dbc0354f"
      },
      "execution_count": null,
      "outputs": [
        {
          "output_type": "stream",
          "name": "stdout",
          "text": [
            " Digite a sua idade 5\n",
            "Você tem carteira de estudante ? Digite S/N: N\n",
            " Você tem passagem gratuita!\n"
          ]
        }
      ]
    },
    {
      "cell_type": "code",
      "source": [
        "def passagem1():\n",
        "  preco_normal = 10\n",
        "  idade = int(input(' Digite a sua idade '))\n",
        "  carteirinha = input ('Você tem carteira de estudante ? Digite S/N: ').strip().upper()\n",
        "\n",
        "  if idade < 6 or idade > 65:\n",
        "    print (' Você tem passagem gratuita!')\n",
        "  elif carteirinha == 'S':\n",
        "    print (' Você tem 50% de desconto! ')\n",
        "  else:\n",
        "    print ('Você não tem desconto ')"
      ],
      "metadata": {
        "id": "OcnVc4I88VoL"
      },
      "execution_count": null,
      "outputs": []
    },
    {
      "cell_type": "code",
      "source": [
        "passagem1()"
      ],
      "metadata": {
        "colab": {
          "base_uri": "https://localhost:8080/"
        },
        "id": "m-HDhnVl-LUf",
        "outputId": "dff834cd-6396-4941-f4cd-e41d76abb70d"
      },
      "execution_count": null,
      "outputs": [
        {
          "output_type": "stream",
          "name": "stdout",
          "text": [
            " Digite a sua idade 45\n",
            "Você tem carteira de estudante ? Digite S/N: S\n",
            " Você tem 50% de desconto! \n"
          ]
        }
      ]
    },
    {
      "cell_type": "code",
      "source": [
        "'''\n",
        "Exercício 16: Cálculo de imposto de renda\n",
        "•\tO usuário informa o salário bruto.\n",
        "•\tAplique alíquotas:\n",
        "•\tAté R$ 1900 → Isento\n",
        "•\tR$ 1900 - R$ 2800 → 7.5%\n",
        "•\tR$ 2800 - R$ 3700 → 15%\n",
        "•\tR$ 3700 - R$ 4600 → 22.5%\n",
        "• Acima de R$ 4600 → 27.5% Exercício\n",
        "'''\n",
        "\n",
        "def IR():\n",
        "\n",
        "  salario = int(input(' Digite o seu salário bruto: R$ '))\n",
        "\n",
        "  if salario <= 1900:\n",
        "    print (' Isento ')\n",
        "  elif salario <=2800:\n",
        "    print ('aliquota de 7,5% ')\n",
        "  elif salario <= 3700:\n",
        "    print ('aliquota de 15% ')\n",
        "  elif salario <= 4600:\n",
        "    print (' aliquota de 22,5% ')\n",
        "  else:\n",
        "    print('aliquota de 27,5% ')\n",
        "\n",
        "\n"
      ],
      "metadata": {
        "id": "acZMghN3-NZP"
      },
      "execution_count": null,
      "outputs": []
    },
    {
      "cell_type": "code",
      "source": [
        "IR()"
      ],
      "metadata": {
        "colab": {
          "base_uri": "https://localhost:8080/"
        },
        "id": "lTTgMXkwCVSe",
        "outputId": "e8296cea-b38e-41d2-867f-062d70d20520"
      },
      "execution_count": null,
      "outputs": [
        {
          "output_type": "stream",
          "name": "stdout",
          "text": [
            " Digite o seu salário bruto: R$ 3456\n",
            "aliquota de 15% \n"
          ]
        }
      ]
    },
    {
      "cell_type": "code",
      "source": [
        "'''\n",
        "17:  Simulação de saque bancário\n",
        "•\tO usuário informa o valor do saque.\n",
        "•\tO programa deve calcular quantas notas de R$ 100, R$ 50, R$ 20 e R$ 10 serão entregues, sempre com o menor número possível de cédulas\n",
        "'''\n",
        "\n",
        "saque = int(input(' Digite o valor do saque '))\n",
        "notas100 = int(saque / 100)\n",
        "saque = saque % 100\n",
        "notas50 = int(saque / 50)\n",
        "saque = saque % 50\n",
        "notas20 = int(saque)/ 20\n",
        "saque = saque % 20\n",
        "notas10 = int(saque)/ 10\n",
        "saque = saque % 10\n",
        "\n",
        "\n",
        "print (notas100)\n",
        "print (notas50)\n",
        "print (notas20)\n",
        "print (notas10)\n",
        "\n",
        "\n",
        "\n",
        "\n",
        "\n",
        "\n"
      ],
      "metadata": {
        "id": "XMlv4ZvrCZKJ",
        "colab": {
          "base_uri": "https://localhost:8080/"
        },
        "outputId": "e4507ff7-7c2e-48f1-d441-d5ff930f11bd"
      },
      "execution_count": null,
      "outputs": [
        {
          "output_type": "stream",
          "name": "stdout",
          "text": [
            " Digite o valor do saque210\n",
            "2\n",
            "0\n",
            "0.5\n",
            "1.0\n"
          ]
        }
      ]
    },
    {
      "cell_type": "code",
      "source": [],
      "metadata": {
        "id": "abNH8ZGZZrBJ"
      },
      "execution_count": null,
      "outputs": []
    },
    {
      "cell_type": "code",
      "source": [
        "saque = int(input(' Digite o valor do saque'))\n",
        "notas100 = int(saque / 100)\n",
        "saque %= 100\n",
        "notas50 = int(saque / 50)\n",
        "saque %=50\n",
        "notas20 = int(saque)/ 20\n",
        "saque %= 20\n",
        "notas10 = int(saque)/ 10\n",
        "saque %= 10\n",
        "\n",
        "\n",
        "print (notas100)\n",
        "print (notas50)\n",
        "print (notas20)\n",
        "print (notas10)"
      ],
      "metadata": {
        "colab": {
          "base_uri": "https://localhost:8080/"
        },
        "id": "qeajK_I8PLgO",
        "outputId": "afa5e889-8ab2-4de5-e722-aea6348a501c"
      },
      "execution_count": null,
      "outputs": [
        {
          "output_type": "stream",
          "name": "stdout",
          "text": [
            " Digite o valor do saque230\n",
            "2\n",
            "0\n",
            "1.5\n",
            "1.0\n"
          ]
        }
      ]
    },
    {
      "cell_type": "code",
      "source": [
        "220\n",
        " (250 //100)\n"
      ],
      "metadata": {
        "colab": {
          "base_uri": "https://localhost:8080/"
        },
        "id": "IMBFsEc1FN_j",
        "outputId": "1d824b9e-36e6-4ad2-8c2c-c7ac9036d573"
      },
      "execution_count": null,
      "outputs": [
        {
          "output_type": "execute_result",
          "data": {
            "text/plain": [
              "2"
            ]
          },
          "metadata": {},
          "execution_count": 19
        }
      ]
    },
    {
      "cell_type": "code",
      "source": [
        "'''\n",
        "17:  Simulação de saque bancário\n",
        "•\tO usuário informa o valor do saque.\n",
        "•\tO programa deve calcular quantas notas de R$ 100, R$ 50, R$ 20 e R$ 10 serão entregues, sempre com o menor número possível de cédulas\n",
        "'''\n",
        "\n",
        "def simulacao_banco():\n",
        "  saque = int(input(' Digite o valor do saque: '))\n",
        "  notas_100 = int(saque / 100)\n",
        "  saque = saque % 100\n",
        "  notas_50 = int(saque / 50)\n",
        "  saque = saque % 50\n",
        "  notas_20 = int(saque /20)\n",
        "  saque = saque % 20\n",
        "  notas_10 = int(saque /10)\n",
        "  saque = saque % 10\n",
        "  total = (notas_100* 100) + (notas_50 * 50) + (notas_20 * 20) + (notas_10 * 10)\n",
        "  print (f' Você efetuou um saque de R${total}, sendo {notas_100} nota(s) de R$100, {notas_50} nota(s) de R$50, {notas_20} nota(s) de R$20 e {notas_10} nota(s) de R$10.')\n",
        "\n",
        "simulacao_banco()\n",
        "\n",
        "\n",
        "\n",
        "\n",
        "\n"
      ],
      "metadata": {
        "colab": {
          "base_uri": "https://localhost:8080/"
        },
        "id": "d5r-LuHUZ9GV",
        "outputId": "e4bd8148-bb37-4564-9fb0-792c08919986"
      },
      "execution_count": null,
      "outputs": [
        {
          "output_type": "stream",
          "name": "stdout",
          "text": [
            " Digite o valor do saque: 13230\n",
            " Você efetuou um saque de R$13230, sendo 132 nota(s) de R$100, 0 nota(s) de R$50, 1 nota(s) de R$20 e 1 nota(s) de R$10.\n"
          ]
        }
      ]
    },
    {
      "cell_type": "code",
      "source": [
        "def simular_saque(valor_saque):\n",
        "    # Definindo as notas disponíveis\n",
        "    notas = [100, 50, 20, 10]\n",
        "    quantidade_notas = {}\n",
        "\n",
        "    # Calculando a quantidade de cada nota\n",
        "    for nota in notas:\n",
        "        if valor_saque >= nota:\n",
        "            quantidade_notas[nota] = valor_saque // nota  # Quantidade de notas\n",
        "            valor_saque %= nota  # Atualiza o valor do saque\n",
        "\n",
        "    return quantidade_notas\n",
        "\n",
        "def main():\n",
        "    try:\n",
        "        valor_saque = int(input(\"Informe o valor do saque: R$ \"))\n",
        "        if valor_saque <= 0:\n",
        "            print(\"Por favor, informe um valor positivo.\")\n",
        "            return\n",
        "\n",
        "        notas_entregues = simular_saque(valor_saque)\n",
        "\n",
        "        print(\"Notas entregues:\")\n",
        "        for nota, quantidade in notas_entregues.items():\n",
        "            print(f\"R$ {nota}: {quantidade} nota(s)\")\n",
        "\n",
        "    except ValueError:\n",
        "        print(\"Por favor, informe um valor numérico válido.\")\n",
        "\n",
        "if __name__ == \"__main__\":\n",
        "    main()"
      ],
      "metadata": {
        "colab": {
          "base_uri": "https://localhost:8080/",
          "height": 321
        },
        "id": "2lio_3xkGW6P",
        "outputId": "a9ef7906-2616-425a-bc27-01159afdbed2"
      },
      "execution_count": null,
      "outputs": [
        {
          "output_type": "error",
          "ename": "KeyboardInterrupt",
          "evalue": "Interrupted by user",
          "traceback": [
            "\u001b[0;31m---------------------------------------------------------------------------\u001b[0m",
            "\u001b[0;31mKeyboardInterrupt\u001b[0m                         Traceback (most recent call last)",
            "\u001b[0;32m<ipython-input-5-0098d2f408c0>\u001b[0m in \u001b[0;36m<cell line: 0>\u001b[0;34m()\u001b[0m\n\u001b[1;32m     29\u001b[0m \u001b[0;34m\u001b[0m\u001b[0m\n\u001b[1;32m     30\u001b[0m \u001b[0;32mif\u001b[0m \u001b[0m__name__\u001b[0m \u001b[0;34m==\u001b[0m \u001b[0;34m\"__main__\"\u001b[0m\u001b[0;34m:\u001b[0m\u001b[0;34m\u001b[0m\u001b[0;34m\u001b[0m\u001b[0m\n\u001b[0;32m---> 31\u001b[0;31m     \u001b[0mmain\u001b[0m\u001b[0;34m(\u001b[0m\u001b[0;34m)\u001b[0m\u001b[0;34m\u001b[0m\u001b[0;34m\u001b[0m\u001b[0m\n\u001b[0m",
            "\u001b[0;32m<ipython-input-5-0098d2f408c0>\u001b[0m in \u001b[0;36mmain\u001b[0;34m()\u001b[0m\n\u001b[1;32m     14\u001b[0m \u001b[0;32mdef\u001b[0m \u001b[0mmain\u001b[0m\u001b[0;34m(\u001b[0m\u001b[0;34m)\u001b[0m\u001b[0;34m:\u001b[0m\u001b[0;34m\u001b[0m\u001b[0;34m\u001b[0m\u001b[0m\n\u001b[1;32m     15\u001b[0m     \u001b[0;32mtry\u001b[0m\u001b[0;34m:\u001b[0m\u001b[0;34m\u001b[0m\u001b[0;34m\u001b[0m\u001b[0m\n\u001b[0;32m---> 16\u001b[0;31m         \u001b[0mvalor_saque\u001b[0m \u001b[0;34m=\u001b[0m \u001b[0mint\u001b[0m\u001b[0;34m(\u001b[0m\u001b[0minput\u001b[0m\u001b[0;34m(\u001b[0m\u001b[0;34m\"Informe o valor do saque: R$ \"\u001b[0m\u001b[0;34m)\u001b[0m\u001b[0;34m)\u001b[0m\u001b[0;34m\u001b[0m\u001b[0;34m\u001b[0m\u001b[0m\n\u001b[0m\u001b[1;32m     17\u001b[0m         \u001b[0;32mif\u001b[0m \u001b[0mvalor_saque\u001b[0m \u001b[0;34m<=\u001b[0m \u001b[0;36m0\u001b[0m\u001b[0;34m:\u001b[0m\u001b[0;34m\u001b[0m\u001b[0;34m\u001b[0m\u001b[0m\n\u001b[1;32m     18\u001b[0m             \u001b[0mprint\u001b[0m\u001b[0;34m(\u001b[0m\u001b[0;34m\"Por favor, informe um valor positivo.\"\u001b[0m\u001b[0;34m)\u001b[0m\u001b[0;34m\u001b[0m\u001b[0;34m\u001b[0m\u001b[0m\n",
            "\u001b[0;32m/usr/local/lib/python3.11/dist-packages/ipykernel/kernelbase.py\u001b[0m in \u001b[0;36mraw_input\u001b[0;34m(self, prompt)\u001b[0m\n\u001b[1;32m   1175\u001b[0m                 \u001b[0;34m\"raw_input was called, but this frontend does not support input requests.\"\u001b[0m\u001b[0;34m\u001b[0m\u001b[0;34m\u001b[0m\u001b[0m\n\u001b[1;32m   1176\u001b[0m             )\n\u001b[0;32m-> 1177\u001b[0;31m         return self._input_request(\n\u001b[0m\u001b[1;32m   1178\u001b[0m             \u001b[0mstr\u001b[0m\u001b[0;34m(\u001b[0m\u001b[0mprompt\u001b[0m\u001b[0;34m)\u001b[0m\u001b[0;34m,\u001b[0m\u001b[0;34m\u001b[0m\u001b[0;34m\u001b[0m\u001b[0m\n\u001b[1;32m   1179\u001b[0m             \u001b[0mself\u001b[0m\u001b[0;34m.\u001b[0m\u001b[0m_parent_ident\u001b[0m\u001b[0;34m[\u001b[0m\u001b[0;34m\"shell\"\u001b[0m\u001b[0;34m]\u001b[0m\u001b[0;34m,\u001b[0m\u001b[0;34m\u001b[0m\u001b[0;34m\u001b[0m\u001b[0m\n",
            "\u001b[0;32m/usr/local/lib/python3.11/dist-packages/ipykernel/kernelbase.py\u001b[0m in \u001b[0;36m_input_request\u001b[0;34m(self, prompt, ident, parent, password)\u001b[0m\n\u001b[1;32m   1217\u001b[0m             \u001b[0;32mexcept\u001b[0m \u001b[0mKeyboardInterrupt\u001b[0m\u001b[0;34m:\u001b[0m\u001b[0;34m\u001b[0m\u001b[0;34m\u001b[0m\u001b[0m\n\u001b[1;32m   1218\u001b[0m                 \u001b[0;31m# re-raise KeyboardInterrupt, to truncate traceback\u001b[0m\u001b[0;34m\u001b[0m\u001b[0;34m\u001b[0m\u001b[0m\n\u001b[0;32m-> 1219\u001b[0;31m                 \u001b[0;32mraise\u001b[0m \u001b[0mKeyboardInterrupt\u001b[0m\u001b[0;34m(\u001b[0m\u001b[0;34m\"Interrupted by user\"\u001b[0m\u001b[0;34m)\u001b[0m \u001b[0;32mfrom\u001b[0m \u001b[0;32mNone\u001b[0m\u001b[0;34m\u001b[0m\u001b[0;34m\u001b[0m\u001b[0m\n\u001b[0m\u001b[1;32m   1220\u001b[0m             \u001b[0;32mexcept\u001b[0m \u001b[0mException\u001b[0m\u001b[0;34m:\u001b[0m\u001b[0;34m\u001b[0m\u001b[0;34m\u001b[0m\u001b[0m\n\u001b[1;32m   1221\u001b[0m                 \u001b[0mself\u001b[0m\u001b[0;34m.\u001b[0m\u001b[0mlog\u001b[0m\u001b[0;34m.\u001b[0m\u001b[0mwarning\u001b[0m\u001b[0;34m(\u001b[0m\u001b[0;34m\"Invalid Message:\"\u001b[0m\u001b[0;34m,\u001b[0m \u001b[0mexc_info\u001b[0m\u001b[0;34m=\u001b[0m\u001b[0;32mTrue\u001b[0m\u001b[0;34m)\u001b[0m\u001b[0;34m\u001b[0m\u001b[0;34m\u001b[0m\u001b[0m\n",
            "\u001b[0;31mKeyboardInterrupt\u001b[0m: Interrupted by user"
          ]
        }
      ]
    },
    {
      "cell_type": "code",
      "source": [
        "'''\n",
        "Exercício 19:  Classificação de atletas\n",
        "•\tPeça a idade de um atleta.\n",
        "•\tClassifique em categorias:\n",
        "•\tInfantil (até 12 anos), Juvenil (13-17 anos), Adulto (18-40 anos), Veterano (acima de 40 anos).\n",
        "'''\n",
        "\n",
        "def classificacao_atletas():\n",
        "  idade = int(input('Digite a idade do atleta: ' ))\n",
        "\n",
        "  if idade >=0 and idade <= 12:\n",
        "    print ( 'Categoria Infantil ' )\n",
        "  elif idade <= 17:\n",
        "    print ('Categoria Juvenil ')\n",
        "  elif idade <= 40:\n",
        "    print ('Categoria Adulta ')\n",
        "  else:\n",
        "    print ('Categoria Senior ')\n"
      ],
      "metadata": {
        "id": "tqioAogTGYhU"
      },
      "execution_count": null,
      "outputs": []
    },
    {
      "cell_type": "code",
      "source": [
        "classificacao_atletas()"
      ],
      "metadata": {
        "colab": {
          "base_uri": "https://localhost:8080/"
        },
        "id": "Gp8UTNFdJjn1",
        "outputId": "feeb7f5d-eb6b-455f-c731-497fc9912a66"
      },
      "execution_count": null,
      "outputs": [
        {
          "output_type": "stream",
          "name": "stdout",
          "text": [
            "Digite a idade do atleta: 45\n",
            "Categoria Senior \n"
          ]
        }
      ]
    },
    {
      "cell_type": "code",
      "source": [
        "'''\n",
        "Exercício 20: Simulação de fila de atendimento\n",
        "•\tO programa pede a idade e se a pessoa é gestante ou deficiente (S/N).\n",
        "•\tRegras para prioridade:\n",
        "•\tDeficientes ou idosos (≥ 60 anos) → Prioridade máxima\n",
        "•\tGestantes → Prioridade média\n",
        "•\tDemais pessoas → Atendimento normal\n",
        "'''\n",
        "def fila():\n",
        "  idade = int(input(' Digite a sua idade: '))\n",
        "  deficiente = input(' você tem alguma deficiencia? S/N: ').strip().upper()\n",
        "  gestante = input(' Você é gestante? S/N: ').strip().upper()\n",
        "\n",
        "  if idade >= 60 or deficiente == 'S':\n",
        "    print (' Prioridade Máxima! ')\n",
        "  elif gestante == 'S':\n",
        "    print (' Prioridade Média! ')\n",
        "  else:\n",
        "    print (' Atendimento Normal! ')"
      ],
      "metadata": {
        "id": "C9FIN7HfJmTZ"
      },
      "execution_count": null,
      "outputs": []
    },
    {
      "cell_type": "code",
      "source": [
        "fila()"
      ],
      "metadata": {
        "colab": {
          "base_uri": "https://localhost:8080/"
        },
        "id": "tzFkGUS-L8eW",
        "outputId": "21257f87-8a3c-4c3c-eb36-572171b3a1bc"
      },
      "execution_count": null,
      "outputs": [
        {
          "output_type": "stream",
          "name": "stdout",
          "text": [
            " Digite a sua idade: 34\n",
            " você tem alguma deficiencia? S/N: n\n",
            " Você é gestante? S/N: s\n",
            " Prioridade Média! \n"
          ]
        }
      ]
    },
    {
      "cell_type": "code",
      "source": [],
      "metadata": {
        "id": "UHpkcXFQL-tM"
      },
      "execution_count": null,
      "outputs": []
    }
  ]
}