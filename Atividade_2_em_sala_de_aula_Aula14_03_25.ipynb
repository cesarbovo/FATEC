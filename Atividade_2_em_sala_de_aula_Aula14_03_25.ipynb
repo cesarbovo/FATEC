{
  "nbformat": 4,
  "nbformat_minor": 0,
  "metadata": {
    "colab": {
      "provenance": [],
      "authorship_tag": "ABX9TyONMRWFnMDe3uKyH+hJnpVW",
      "include_colab_link": true
    },
    "kernelspec": {
      "name": "python3",
      "display_name": "Python 3"
    },
    "language_info": {
      "name": "python"
    }
  },
  "cells": [
    {
      "cell_type": "markdown",
      "metadata": {
        "id": "view-in-github",
        "colab_type": "text"
      },
      "source": [
        "<a href=\"https://colab.research.google.com/github/cesarbovo/FATEC/blob/main/Atividade_2_em_sala_de_aula_Aula14_03_25.ipynb\" target=\"_parent\"><img src=\"https://colab.research.google.com/assets/colab-badge.svg\" alt=\"Open In Colab\"/></a>"
      ]
    },
    {
      "cell_type": "markdown",
      "source": [
        "Atividade em Sala de Aula 02\n",
        "Atividade 01 : Verificação de Benefício\n",
        "Um programa precisa verificar se uma pessoa tem direito a um benefício financeiro.\n",
        "Para isso, considere as seguintes regras:\n",
        "• A pessoa tem direito ao benefício se tiver mais de 18 anos e um salário menor ou igual a\n",
        "2000.\n",
        "• Se a pessoa tiver mais de 60 anos, ela tem direito ao benefício independentemente do\n",
        "salário.\n",
        "• Caso contrário, a pessoa não tem direito ao benefício.\n",
        "Tarefa:\n",
        "Crie um programa em Python que:\n",
        "1. Peça ao usuário para digitar sua idade.\n",
        "2. Peça ao usuário para digitar seu salário.\n",
        "3. Utilize a estrutura if para verificar se a pessoa tem direito ao benefício.\n",
        "4. Exiba uma mensagem informando se a pessoa tem ou não direito ao benefício.\n",
        "Salve o programa com o nome exercicio_if_01.py\n",
        "Salve o programa com o nome atividade_aula_02_01.py\n"
      ],
      "metadata": {
        "id": "FaNSvHDYF8SH"
      }
    },
    {
      "cell_type": "code",
      "source": [
        "idade = int(input('Digite sua idade: '))\n",
        "salario = float(input('Digite o seu salário: '))\n",
        "if idade>= 18 and salario<=2000:\n",
        "  print('Você tem direito ao benefício ')\n",
        "elif idade>60:\n",
        "  print('Você tem direito ao benefício: ')\n",
        "else:\n",
        "  print('Você não tem direito ao beneficio')\n"
      ],
      "metadata": {
        "colab": {
          "base_uri": "https://localhost:8080/"
        },
        "id": "cTv5CV5gGDRV",
        "outputId": "2e1dca5e-93ed-459e-b257-c3cdc38aa18f"
      },
      "execution_count": null,
      "outputs": [
        {
          "output_type": "stream",
          "name": "stdout",
          "text": [
            "Digite sua idade: 60\n",
            "Digite o seu salário: 4000\n",
            "Você não tem direito ao beneficio\n"
          ]
        }
      ]
    },
    {
      "cell_type": "code",
      "source": [
        "'''\n",
        "Atividade 02: Classificação de Notas\n",
        "Uma escola deseja automatizar a classificação dos alunos com base em suas notas finais. O sistema\n",
        "deve seguir as seguintes regras:\n",
        "• Nota maior ou igual a 90: Exibir \"Aprovado com Excelência\"\n",
        "• Nota entre 70 e 89: Exibir \"Aprovado\"\n",
        "• Nota entre 50 e 69: Exibir \"Recuperação\"\n",
        "• Nota menor que 50: Exibir \"Reprovado\"\n",
        "Tarefa:\n",
        "Crie um programa em Python que:\n",
        "1. Peça ao usuário para digitar a nota do aluno (um número entre 0 e 100).\n",
        "2. Utilize a estrutura if para classificar a nota conforme as regras acima.\n",
        "3. Exiba uma mensagem informando a situação do aluno.\n",
        "Salve o programa com o nome atividade_aula_02_02.py\n",
        "'''\n",
        "\n",
        "nota = float(input(' Digite a nota do aluno entre 0 a 100 '))\n",
        "if nota >= 90:\n",
        "  print(' Aprovado com excelência ')\n",
        "elif nota >=70 and nota <=90:\n",
        "  print('Aprovado ')\n",
        "elif nota >= 50 and nota <=69:\n",
        "  print( 'Recuperação' )\n",
        "else:\n",
        "  print('Reprovado')\n"
      ],
      "metadata": {
        "colab": {
          "base_uri": "https://localhost:8080/"
        },
        "id": "boHRzYFgGRPQ",
        "outputId": "e178ad03-950a-4168-e0e9-f13f34e1231d"
      },
      "execution_count": null,
      "outputs": [
        {
          "output_type": "stream",
          "name": "stdout",
          "text": [
            " Digite a nota do aluno entre 0 a 100 45\n",
            "Reprovado\n"
          ]
        }
      ]
    },
    {
      "cell_type": "code",
      "source": [
        "# outra forma mais simples de fazer\n",
        "\n",
        "nota = float(input(' Digite a nota do aluno entre 0 a 100 '))\n",
        "if nota >= 90:\n",
        "  print(' Aprovado com excelência ')\n",
        "elif nota >=70:\n",
        "  print('Aprovado ')\n",
        "elif nota >= 50:\n",
        "  print( 'Recuperação' )\n",
        "else:\n",
        "  print('Reprovado')"
      ],
      "metadata": {
        "id": "lmyn8gYmQddX",
        "colab": {
          "base_uri": "https://localhost:8080/"
        },
        "outputId": "860e71bb-d8d5-41f9-93b0-8f5b9a916dae"
      },
      "execution_count": null,
      "outputs": [
        {
          "output_type": "stream",
          "name": "stdout",
          "text": [
            " Digite a nota do aluno entre 0 a 100 49\n",
            "Reprovado\n"
          ]
        }
      ]
    },
    {
      "cell_type": "markdown",
      "source": [
        "Atividade 03: Calculadora de IMC (Índice de Massa Corporal)\n",
        "Crie um programa que calcule o IMC de uma pessoa e classifique de acordo com a tabela da OMS (Organização Mundial da Saúde).\n",
        "O IMC é calculado usando a fórmula:\n",
        "IMC=altura2/peso Onde:\n",
        "•\tpeso está em quilogramas (kg)\n",
        "•\taltura está em metros (m) Classificação do IMC:\n",
        "•\tAbaixo de 18.5 → Abaixo do peso\n",
        "•\tEntre 18.5 e 24.9 → Peso normal\n",
        "•\tEntre 25 e 29.9 → Sobrepeso\n",
        "•\tEntre 30 e 34.9 → Obesidade Grau 1\n",
        "•\tEntre 35 e 39.9 → Obesidade Grau 2\n",
        "•\t40 ou mais → Obesidade Grau 3 (mórbida)\n",
        "Tarefa:\n",
        "1.\tPeça ao usuário para digitar peso e altura.\n",
        "2.\tCalcule o IMC usando a fórmula.\n",
        "3.\tUse if para classificar o IMC.\n",
        "4.\tExiba a mensagem com o valor do IMC e a classificação correspondente.\n",
        "Salve o programa com o nome atividade_aula_02_03.py\n",
        "\n"
      ],
      "metadata": {
        "id": "xp4lhHX_e8NS"
      }
    },
    {
      "cell_type": "code",
      "source": [
        "peso = float(input('Digite o seu peso em quilos: ').replace(',','.'))\n",
        "altura = float(input(' Digite a sua altura em metros: ').replace(',','.'))\n",
        "IMC = round(peso/pow(altura, 2), 2)\n",
        "print(f' Seu IMC é {IMC}.')\n",
        "if IMC < 18.5:\n",
        "  print(' Você está abaixo do peso normal ')\n",
        "elif IMC <= 24.9:\n",
        "  print(' Você está com o peso normal. Parabéns! ')\n",
        "elif IMC <= 29.9:\n",
        "  print(' Você está com sobrepeso. Atenção! ')\n",
        "elif IMC <= 34.9:\n",
        "  print(' Você está com obesidade grau 1. Procure orientação profissional! ')\n",
        "elif IMC <= 39.9:\n",
        "  print(' Você está com obesidade grau 2. Procure orientação profissional! ')\n",
        "else:\n",
        "  print(' Você está com obesidade mórbida! Cuidado! Procure orientação profissional.')\n"
      ],
      "metadata": {
        "colab": {
          "base_uri": "https://localhost:8080/"
        },
        "id": "3Nua2GQXrF5w",
        "outputId": "05fd4cd1-356d-419f-8a14-c284bd2c61bf"
      },
      "execution_count": null,
      "outputs": [
        {
          "output_type": "stream",
          "name": "stdout",
          "text": [
            "Digite o seu peso em quilos: 100\n",
            " Digite a sua altura em metros: 1,6\n",
            " Seu IMC é 39.06.\n",
            " Você está com obesidade grau 2. Procure orientação profissional! \n"
          ]
        }
      ]
    },
    {
      "cell_type": "code",
      "source": [
        "\n",
        "\n",
        "\n",
        "\n"
      ],
      "metadata": {
        "id": "MVcIeX-nr-76",
        "colab": {
          "base_uri": "https://localhost:8080/"
        },
        "outputId": "2d977e58-dd6e-41a0-b651-3cbd61b066c6"
      },
      "execution_count": null,
      "outputs": [
        {
          "name": "stdout",
          "output_type": "stream",
          "text": [
            "Digite o seu peso em quilos: 67\n",
            " Digite a sua altura em metros: 1.8\n"
          ]
        }
      ]
    },
    {
      "cell_type": "code",
      "source": [
        "1.89\n"
      ],
      "metadata": {
        "id": "VIylShQT-lbb"
      },
      "execution_count": null,
      "outputs": []
    }
  ]
}