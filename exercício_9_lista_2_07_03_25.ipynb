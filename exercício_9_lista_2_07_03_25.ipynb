{
  "nbformat": 4,
  "nbformat_minor": 0,
  "metadata": {
    "colab": {
      "provenance": [],
      "authorship_tag": "ABX9TyOkoHNygWewrO22EO7kEBQE",
      "include_colab_link": true
    },
    "kernelspec": {
      "name": "python3",
      "display_name": "Python 3"
    },
    "language_info": {
      "name": "python"
    }
  },
  "cells": [
    {
      "cell_type": "markdown",
      "metadata": {
        "id": "view-in-github",
        "colab_type": "text"
      },
      "source": [
        "<a href=\"https://colab.research.google.com/github/cesarbovo/FATEC/blob/main/exerc%C3%ADcio_9_lista_2_07_03_25.ipynb\" target=\"_parent\"><img src=\"https://colab.research.google.com/assets/colab-badge.svg\" alt=\"Open In Colab\"/></a>"
      ]
    },
    {
      "cell_type": "markdown",
      "source": [],
      "metadata": {
        "id": "EgeoK2ys-0JW"
      }
    },
    {
      "cell_type": "markdown",
      "source": [
        "\n",
        "Lista de Exercícios 02\n",
        "\n",
        "\n"
      ],
      "metadata": {
        "id": "4N2TihdY-7NX"
      }
    },
    {
      "cell_type": "code",
      "source": [
        "'''\n",
        "Exercício 9: Convertendo Celsius para Fahrenheit\n",
        "Crie uma variável celsius e atribua um valor numérico a ela.\n",
        "Converta esse valor para Fahrenheit usando a fórmula:\n",
        "\n",
        "fahrenheit = (celsius * 9/5) + 32\n",
        "Exiba o resultado formatado:\n",
        "\"A temperatura de [celsius]°C corresponde a [fahrenheit]°F.\"\n",
        "\n",
        "'''\n",
        "\n",
        "celsius=float(input(' Digite a temperatura em Celsius: '))\n",
        "fahrenheit=float((celsius*9/5) + 32)\n",
        "print(f'A temperatura de {celsius}°C corresponde a {fahrenheit}°F.')"
      ],
      "metadata": {
        "id": "jKcxbyebLpcA",
        "colab": {
          "base_uri": "https://localhost:8080/"
        },
        "outputId": "12615823-dfc6-4fc6-bbfc-2875001fd8e7"
      },
      "execution_count": null,
      "outputs": [
        {
          "output_type": "stream",
          "name": "stdout",
          "text": [
            " Digite a temperatura em Celsius: 36\n",
            "A temperatura de 36.0°C corresponde a 96.8°F.\n"
          ]
        }
      ]
    },
    {
      "cell_type": "code",
      "source": [],
      "metadata": {
        "id": "vU-HM4muPBtk"
      },
      "execution_count": null,
      "outputs": []
    }
  ]
}