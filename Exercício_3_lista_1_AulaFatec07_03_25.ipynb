{
  "nbformat": 4,
  "nbformat_minor": 0,
  "metadata": {
    "colab": {
      "provenance": [],
      "authorship_tag": "ABX9TyN/ZG1n7Pi9JYlaxzoahCT5",
      "include_colab_link": true
    },
    "kernelspec": {
      "name": "python3",
      "display_name": "Python 3"
    },
    "language_info": {
      "name": "python"
    }
  },
  "cells": [
    {
      "cell_type": "markdown",
      "metadata": {
        "id": "view-in-github",
        "colab_type": "text"
      },
      "source": [
        "<a href=\"https://colab.research.google.com/github/cesarbovo/FATEC/blob/main/Exerc%C3%ADcio_3_lista_1_AulaFatec07_03_25.ipynb\" target=\"_parent\"><img src=\"https://colab.research.google.com/assets/colab-badge.svg\" alt=\"Open In Colab\"/></a>"
      ]
    },
    {
      "cell_type": "markdown",
      "source": [],
      "metadata": {
        "id": "EgeoK2ys-0JW"
      }
    },
    {
      "cell_type": "markdown",
      "source": [
        "\n",
        "Lista de Exercícios 02\n",
        "\n",
        "\n"
      ],
      "metadata": {
        "id": "4N2TihdY-7NX"
      }
    },
    {
      "cell_type": "code",
      "source": [
        "'''\n",
        "Exercício 3: Concatenando strings\n",
        "Peça ao usuário que digite seu primeiro nome e sobrenome separadamente.\n",
        "Armazene as entradas em duas variáveis chamadas primeiro_nome e sobrenome.\n",
        "Em seguida, concatene essas duas variáveis e exiba uma mensagem de boas-vindas:\n",
        "\n",
        "\"Olá, [primeiro_nome] [sobrenome]! Seja bem-vindo(a)!\"\n",
        "'''\n",
        "\n",
        "\n",
        "nome=input(' Digite seu nome ')\n",
        "sobrenome= input(' Digite seu sobrenome ')\n",
        "print(' Olá, ' + nome + ' ' + sobrenome + '! ' + ' Seja bem-vindo(a)!')"
      ],
      "metadata": {
        "id": "vB5mBh_Gg9Qf",
        "colab": {
          "base_uri": "https://localhost:8080/"
        },
        "outputId": "4ce505c1-682a-4bc2-eb1e-d147a08a824d"
      },
      "execution_count": null,
      "outputs": [
        {
          "output_type": "stream",
          "name": "stdout",
          "text": [
            " Digite seu nome César\n",
            " Digite seu sobrenome Bovo\n",
            " Olá, César Bovo!  Seja bem-vindo(a)!\n"
          ]
        }
      ]
    },
    {
      "cell_type": "code",
      "source": [],
      "metadata": {
        "id": "nlInIukwGYhy"
      },
      "execution_count": null,
      "outputs": []
    }
  ]
}