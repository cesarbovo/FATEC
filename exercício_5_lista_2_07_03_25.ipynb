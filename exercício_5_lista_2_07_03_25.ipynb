{
  "nbformat": 4,
  "nbformat_minor": 0,
  "metadata": {
    "colab": {
      "provenance": [],
      "authorship_tag": "ABX9TyPEuHbIujeptEa3PrrhZG0M",
      "include_colab_link": true
    },
    "kernelspec": {
      "name": "python3",
      "display_name": "Python 3"
    },
    "language_info": {
      "name": "python"
    }
  },
  "cells": [
    {
      "cell_type": "markdown",
      "metadata": {
        "id": "view-in-github",
        "colab_type": "text"
      },
      "source": [
        "<a href=\"https://colab.research.google.com/github/cesarbovo/FATEC/blob/main/exerc%C3%ADcio_5_lista_2_07_03_25.ipynb\" target=\"_parent\"><img src=\"https://colab.research.google.com/assets/colab-badge.svg\" alt=\"Open In Colab\"/></a>"
      ]
    },
    {
      "cell_type": "markdown",
      "source": [],
      "metadata": {
        "id": "EgeoK2ys-0JW"
      }
    },
    {
      "cell_type": "markdown",
      "source": [
        "\n",
        "Lista de Exercícios 02\n",
        "\n",
        "\n"
      ],
      "metadata": {
        "id": "4N2TihdY-7NX"
      }
    },
    {
      "cell_type": "code",
      "source": [
        "'''\n",
        "Exercício 5: Multiplicação de um número por uma string\n",
        "Peça ao usuário que digite um número inteiro e armazene-o na variável numero.\n",
        "Depois, peça que digite um caractere ou palavra curta e armazene-a na variável texto.\n",
        "Multiplique a string pelo número digitado e exiba o resultado:\n",
        "Exemplo de entrada:\n",
        "numero = 3\n",
        "texto = \"Python \"\n",
        "\n",
        "Saída esperada:\n",
        "\"Python Python Python \"\n",
        "'''\n",
        "\n",
        "numero=int(input(' Digite um número inteiro '))\n",
        "texto=input('Digite um caracter ou uma palavra curta ')\n",
        "resultado=numero* (texto + '  ')\n",
        "print(resultado)"
      ],
      "metadata": {
        "id": "fO1upUZvIbA1",
        "colab": {
          "base_uri": "https://localhost:8080/"
        },
        "outputId": "36184991-97d8-483d-f76f-c19bed867540"
      },
      "execution_count": null,
      "outputs": [
        {
          "output_type": "stream",
          "name": "stdout",
          "text": [
            " Digite um número inteiro 2\n",
            "Digite um caracter ou uma palavra curta sa\n",
            "sa  sa  \n"
          ]
        }
      ]
    },
    {
      "cell_type": "code",
      "source": [
        "numero=input('Digite um número inteiro ')\n",
        "texto=input('Digite um caracter ou uma palavra curta ')\n",
        "numero=int(numero)\n",
        "resultado=numero*(texto + '  ')\n",
        "print(resultado)"
      ],
      "metadata": {
        "id": "T9gw9Cu-a4xa",
        "colab": {
          "base_uri": "https://localhost:8080/"
        },
        "outputId": "80a5b48e-8048-4436-94bd-746cbf36b3ef"
      },
      "execution_count": null,
      "outputs": [
        {
          "output_type": "stream",
          "name": "stdout",
          "text": [
            "Digite um número inteiro 10\n",
            "Digite um caracter ou uma palavra curta Olá\n",
            "Olá  Olá  Olá  Olá  Olá  Olá  Olá  Olá  Olá  Olá  \n"
          ]
        }
      ]
    },
    {
      "cell_type": "code",
      "source": [],
      "metadata": {
        "id": "8xPUpWMAcEs3"
      },
      "execution_count": null,
      "outputs": []
    }
  ]
}