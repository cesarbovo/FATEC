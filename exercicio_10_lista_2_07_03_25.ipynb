{
  "nbformat": 4,
  "nbformat_minor": 0,
  "metadata": {
    "colab": {
      "provenance": [],
      "authorship_tag": "ABX9TyNop6id4NdMZgiKz35klL8p",
      "include_colab_link": true
    },
    "kernelspec": {
      "name": "python3",
      "display_name": "Python 3"
    },
    "language_info": {
      "name": "python"
    }
  },
  "cells": [
    {
      "cell_type": "markdown",
      "metadata": {
        "id": "view-in-github",
        "colab_type": "text"
      },
      "source": [
        "<a href=\"https://colab.research.google.com/github/cesarbovo/FATEC/blob/main/exercicio_10_lista_2_07_03_25.ipynb\" target=\"_parent\"><img src=\"https://colab.research.google.com/assets/colab-badge.svg\" alt=\"Open In Colab\"/></a>"
      ]
    },
    {
      "cell_type": "markdown",
      "source": [],
      "metadata": {
        "id": "EgeoK2ys-0JW"
      }
    },
    {
      "cell_type": "markdown",
      "source": [
        "\n",
        "Lista de Exercícios 02\n",
        "\n",
        "\n"
      ],
      "metadata": {
        "id": "4N2TihdY-7NX"
      }
    },
    {
      "cell_type": "code",
      "source": [
        "'''\n",
        "Exercício 10: Criando uma mensagem personalizada\n",
        "Peça ao usuário que digite um nome e um evento especial (por exemplo, \"Festa de Aniversário\").\n",
        "Armazene essas informações e exiba a seguinte mensagem formatada:\n",
        "\"Olá, [nome]! Você está convidado(a) para a [evento]. Esperamos por você!\"\n",
        "'''\n",
        "\n",
        "nome=input('Digite o nome do convidade: ')\n",
        "evento=input(' Digite o evento: ')\n",
        "data=input(' Digite a data do evento: ')\n",
        "horario=input(' Digite o horário do evento: ')\n",
        "local=input(' Digite o local do evento: ')\n",
        "anfitriao=input(' Digite o nome do anfitrião: ')\n",
        "print(f'Olá, {nome}! Você está convidado (a) para {evento}. Que acontecerá em {data}, às {horario} no seguinte endereço: {local}. Espero por você! Atenciosamente, {anfitriao}')"
      ],
      "metadata": {
        "id": "vU-HM4muPBtk",
        "colab": {
          "base_uri": "https://localhost:8080/"
        },
        "outputId": "ea96da9f-1fe3-4a89-abc6-76d1e61274ba"
      },
      "execution_count": null,
      "outputs": [
        {
          "output_type": "stream",
          "name": "stdout",
          "text": [
            "Digite o nome do convidade: Flavia\n",
            " Digite o evento: a minha formatura\n",
            " Digite a data do evento: 20/12/2027\n",
            " Digite o horário do evento: 20 hs\n",
            " Digite o local do evento: Campus da Fatec - Rio Claro\n",
            " Digite o nome do anfitrião: César Bovo\n",
            "Olá, Flavia! Você está convidado (a) para a minha formatura. Que acontecerá em 20/12/2027, às 20 hs no seguinte endereço: Campus da Fatec - Rio Claro. Espero por você! Atenciosamente, César Bovo\n"
          ]
        }
      ]
    },
    {
      "cell_type": "code",
      "source": [],
      "metadata": {
        "id": "OtZJf3R9SUV2"
      },
      "execution_count": null,
      "outputs": []
    }
  ]
}