{
  "nbformat": 4,
  "nbformat_minor": 0,
  "metadata": {
    "colab": {
      "provenance": [],
      "authorship_tag": "ABX9TyO35Dqm7tNOLZ5ksAffa1NY",
      "include_colab_link": true
    },
    "kernelspec": {
      "name": "python3",
      "display_name": "Python 3"
    },
    "language_info": {
      "name": "python"
    }
  },
  "cells": [
    {
      "cell_type": "markdown",
      "metadata": {
        "id": "view-in-github",
        "colab_type": "text"
      },
      "source": [
        "<a href=\"https://colab.research.google.com/github/cesarbovo/FATEC/blob/main/exerc%C3%ADcio_7_lista_2_07_03_25.ipynb\" target=\"_parent\"><img src=\"https://colab.research.google.com/assets/colab-badge.svg\" alt=\"Open In Colab\"/></a>"
      ]
    },
    {
      "cell_type": "markdown",
      "source": [],
      "metadata": {
        "id": "EgeoK2ys-0JW"
      }
    },
    {
      "cell_type": "markdown",
      "source": [
        "\n",
        "Lista de Exercícios 02\n",
        "\n",
        "\n"
      ],
      "metadata": {
        "id": "4N2TihdY-7NX"
      }
    },
    {
      "cell_type": "code",
      "source": [
        "'''\n",
        "Exercício 7: Criando um identificador de usuário\n",
        "Peça ao usuário que digite seu primeiro nome e ano de nascimento.\n",
        "Crie um identificador concatenando o nome com o ano e exiba o resultado.\n",
        "Exemplo de entrada:\n",
        "primeiro_nome = \"Carlos\"\n",
        "ano_nascimento = 1995\n",
        "\n",
        "Saída esperada:\n",
        "\"Seu identificador de usuário é: Carlos1995\"\n",
        "'''\n",
        "\n",
        "primeiro_nome=input(' Digite o seu primeiro nome ')\n",
        "ano_nascimento=input(' Digite o ano de seu nascimento ')\n",
        "identificador= primeiro_nome + ano_nascimento\n",
        "print(f' Seu identificador de usuário é: {identificador} ')"
      ],
      "metadata": {
        "colab": {
          "base_uri": "https://localhost:8080/"
        },
        "id": "IECzWPiK_ec3",
        "outputId": "bbb549eb-1499-460b-acd5-2086087572de"
      },
      "execution_count": null,
      "outputs": [
        {
          "output_type": "stream",
          "name": "stdout",
          "text": [
            " Digite o seu primeiro nome César\n",
            " Digite o ano de seu nascimento 1974\n",
            " Seu identificador de usuário é: César1974 \n"
          ]
        }
      ]
    },
    {
      "cell_type": "code",
      "source": [],
      "metadata": {
        "id": "LG-A_5MfAyFY"
      },
      "execution_count": null,
      "outputs": []
    }
  ]
}