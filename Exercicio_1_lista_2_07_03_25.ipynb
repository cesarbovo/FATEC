{
  "nbformat": 4,
  "nbformat_minor": 0,
  "metadata": {
    "colab": {
      "provenance": [],
      "authorship_tag": "ABX9TyOhvuwpayV6LDUmV2iEavWz",
      "include_colab_link": true
    },
    "kernelspec": {
      "name": "python3",
      "display_name": "Python 3"
    },
    "language_info": {
      "name": "python"
    }
  },
  "cells": [
    {
      "cell_type": "markdown",
      "metadata": {
        "id": "view-in-github",
        "colab_type": "text"
      },
      "source": [
        "<a href=\"https://colab.research.google.com/github/cesarbovo/FATEC/blob/main/Exercicio_1_lista_2_07_03_25.ipynb\" target=\"_parent\"><img src=\"https://colab.research.google.com/assets/colab-badge.svg\" alt=\"Open In Colab\"/></a>"
      ]
    },
    {
      "cell_type": "markdown",
      "source": [],
      "metadata": {
        "id": "EgeoK2ys-0JW"
      }
    },
    {
      "cell_type": "markdown",
      "source": [
        "\n",
        "Lista de Exercícios 02\n",
        "\n",
        "\n"
      ],
      "metadata": {
        "id": "4N2TihdY-7NX"
      }
    },
    {
      "cell_type": "markdown",
      "source": [
        "Exercício 1\n",
        "\n",
        " Criando e imprimindo variáveis\n",
        "\n",
        "  Crie três variáveis em Python:\n",
        "\n",
        "   • Uma variável chamada \"nome\" para armazenar seu nome.\n",
        "   \n",
        "   • Uma variável chamada idade para armazenar sua idade.\n",
        "   \n",
        "   • Uma variável chamada altura para armazenar sua altura em metros.\n",
        "   \n",
        "    Imprima uma mensagem usando essas variáveis no seguinte formato: \"Meu nome é [nome], tenho [idade] anos e minha altura é [altura] metros.\""
      ],
      "metadata": {
        "id": "eijGZtIx_VVD"
      }
    },
    {
      "cell_type": "code",
      "source": [
        "nome = input('Digite o seu nome')\n",
        "idade = input('Digite a sua idade')\n",
        "altura= input('digite a sua altura')\n",
        "\n",
        "\n",
        "print('Meu nome é ' + nome + ', tenho ' + idade + ' anos' + ' e minha altura é ' + altura + ' metros')"
      ],
      "metadata": {
        "colab": {
          "base_uri": "https://localhost:8080/"
        },
        "id": "dZXIDoGWApNR",
        "outputId": "fb50b8be-face-4993-f894-ff3693a1be8c"
      },
      "execution_count": null,
      "outputs": [
        {
          "output_type": "stream",
          "name": "stdout",
          "text": [
            "Digite o seu nomeCesar\n",
            "Digite a sua idade50\n",
            "digite a sua altura1.8\n",
            "Meu nome é Cesar, tenho 50 anos e minha altura é 1.8 metros\n"
          ]
        }
      ]
    },
    {
      "cell_type": "code",
      "source": [
        "print(idade)"
      ],
      "metadata": {
        "colab": {
          "base_uri": "https://localhost:8080/"
        },
        "id": "rlzqJJtPBz4U",
        "outputId": "c57885e8-282b-4e8c-987a-18eaefbc83d7"
      },
      "execution_count": null,
      "outputs": [
        {
          "output_type": "stream",
          "name": "stdout",
          "text": [
            "50\n"
          ]
        }
      ]
    },
    {
      "cell_type": "code",
      "source": [
        "num1=10\n",
        "type(num1)"
      ],
      "metadata": {
        "id": "ulxdmmssDNq4",
        "colab": {
          "base_uri": "https://localhost:8080/"
        },
        "outputId": "d8038f22-d1c1-4b77-9ffc-19e0c8d38668"
      },
      "execution_count": null,
      "outputs": [
        {
          "output_type": "execute_result",
          "data": {
            "text/plain": [
              "int"
            ]
          },
          "metadata": {},
          "execution_count": 1
        }
      ]
    },
    {
      "cell_type": "code",
      "source": [
        "int(num1)"
      ],
      "metadata": {
        "colab": {
          "base_uri": "https://localhost:8080/"
        },
        "id": "Ta4eswFfRSss",
        "outputId": "cb086804-6337-43f2-d7d0-19edfef31e4b"
      },
      "execution_count": null,
      "outputs": [
        {
          "output_type": "execute_result",
          "data": {
            "text/plain": [
              "10"
            ]
          },
          "metadata": {},
          "execution_count": 13
        }
      ]
    },
    {
      "cell_type": "code",
      "source": [
        "num2=3"
      ],
      "metadata": {
        "id": "OD5LkT-hSpXs"
      },
      "execution_count": null,
      "outputs": []
    },
    {
      "cell_type": "code",
      "source": [
        "num3=2"
      ],
      "metadata": {
        "id": "ApMHvywDS_58"
      },
      "execution_count": null,
      "outputs": []
    },
    {
      "cell_type": "code",
      "source": [
        "num2+num3"
      ],
      "metadata": {
        "colab": {
          "base_uri": "https://localhost:8080/"
        },
        "id": "HyhuJsOLTPNR",
        "outputId": "54b1d660-a716-4390-b252-30663b9794a6"
      },
      "execution_count": null,
      "outputs": [
        {
          "output_type": "execute_result",
          "data": {
            "text/plain": [
              "5"
            ]
          },
          "metadata": {},
          "execution_count": 22
        }
      ]
    },
    {
      "cell_type": "code",
      "source": [
        "print(num2+num3)"
      ],
      "metadata": {
        "colab": {
          "base_uri": "https://localhost:8080/"
        },
        "id": "fnazD9bRTRAC",
        "outputId": "47a4fa1d-5fad-4c50-ead2-9580487e5b39"
      },
      "execution_count": null,
      "outputs": [
        {
          "output_type": "stream",
          "name": "stdout",
          "text": [
            "5\n"
          ]
        }
      ]
    },
    {
      "cell_type": "code",
      "source": [
        "num1=int(input('Digite um numero'))\n",
        "num2=int(input('digite o segundo numero'))\n",
        "soma=str(num1+num2)\n",
        "\n",
        "\n",
        "\n",
        "print( 'A soma de ' + num1 + ' e ' + num2 + ' é ' + soma)"
      ],
      "metadata": {
        "colab": {
          "base_uri": "https://localhost:8080/",
          "height": 211
        },
        "id": "b_Jh5tvOTUnw",
        "outputId": "3d0b89a5-8134-4104-8765-db7eb06437d3"
      },
      "execution_count": null,
      "outputs": [
        {
          "name": "stdout",
          "output_type": "stream",
          "text": [
            "Digite um numero2\n",
            "digite o segundo numero2\n"
          ]
        },
        {
          "output_type": "error",
          "ename": "TypeError",
          "evalue": "can only concatenate str (not \"int\") to str",
          "traceback": [
            "\u001b[0;31m---------------------------------------------------------------------------\u001b[0m",
            "\u001b[0;31mTypeError\u001b[0m                                 Traceback (most recent call last)",
            "\u001b[0;32m<ipython-input-38-20c8e434e361>\u001b[0m in \u001b[0;36m<cell line: 0>\u001b[0;34m()\u001b[0m\n\u001b[1;32m      5\u001b[0m \u001b[0;34m\u001b[0m\u001b[0m\n\u001b[1;32m      6\u001b[0m \u001b[0;34m\u001b[0m\u001b[0m\n\u001b[0;32m----> 7\u001b[0;31m \u001b[0mprint\u001b[0m\u001b[0;34m(\u001b[0m \u001b[0;34m'A soma de '\u001b[0m \u001b[0;34m+\u001b[0m \u001b[0mnum1\u001b[0m \u001b[0;34m+\u001b[0m \u001b[0;34m' e '\u001b[0m \u001b[0;34m+\u001b[0m \u001b[0mnum2\u001b[0m \u001b[0;34m+\u001b[0m \u001b[0;34m' é '\u001b[0m \u001b[0;34m+\u001b[0m \u001b[0msoma\u001b[0m\u001b[0;34m)\u001b[0m\u001b[0;34m\u001b[0m\u001b[0;34m\u001b[0m\u001b[0m\n\u001b[0m",
            "\u001b[0;31mTypeError\u001b[0m: can only concatenate str (not \"int\") to str"
          ]
        }
      ]
    },
    {
      "cell_type": "code",
      "source": [
        "211]"
      ],
      "metadata": {
        "id": "OTIHkGHhT2Ff"
      },
      "execution_count": null,
      "outputs": []
    }
  ]
}